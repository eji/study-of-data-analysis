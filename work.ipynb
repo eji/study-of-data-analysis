{
 "metadata": {
  "name": "",
  "signature": "sha256:da1101bc5d69ef76f287a4af8a1db221968cae12b8cec87f0cd0abb1ef389183"
 },
 "nbformat": 3,
 "nbformat_minor": 0,
 "worksheets": [
  {
   "cells": [
    {
     "cell_type": "markdown",
     "metadata": {},
     "source": [
      "# \u4ed5\u4e8b\u306e\u30e1\u30e2\n",
      "\n",
      "\u4ed5\u4e8b\u4e2d\u306b\u3084\u3063\u305f\u3053\u3068\u3084\u8003\u3048\u305f\u3053\u3068\u306e\u30e1\u30e2\n"
     ]
    }
   ],
   "metadata": {}
  }
 ]
}