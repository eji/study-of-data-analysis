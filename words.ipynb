{
 "metadata": {
  "name": "",
  "signature": "sha256:4301b286bda78536adce4c9fb24cef26c6baf5be54926a45eaa6a4e22bb2ff3b"
 },
 "nbformat": 3,
 "nbformat_minor": 0,
 "worksheets": [
  {
   "cells": [
    {
     "cell_type": "markdown",
     "metadata": {},
     "source": [
      "# \u7528\u8a9e\n",
      "\n",
      "## \u30d3\u30f3\n",
      "\n",
      "\u30d2\u30b9\u30c8\u30b0\u30e9\u30e0\u306e\u30c7\u30fc\u30bf\u533a\u9593\u306e\u3053\u3068\u3092\u82f1\u8a9e\u3067bin(\u30d3\u30f3)\u3068\u547c\u3076\u3089\u3057\u3044 ([\u53c2\u8003](http://www.oxforddictionaries.com/definition/english/bin?q=bin))\n",
      "\n",
      "\u306a\u305cbin\u306a\u306e\u304b\u306f\u4e0d\u660e"
     ]
    }
   ],
   "metadata": {}
  }
 ]
}