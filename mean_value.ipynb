{
 "metadata": {
  "name": "",
  "signature": "sha256:433631928d98a96355a0909befb50e7f3fa6f42b1a4e9691307b1cd0858e1080"
 },
 "nbformat": 3,
 "nbformat_minor": 0,
 "worksheets": [
  {
   "cells": [
    {
     "cell_type": "code",
     "collapsed": false,
     "input": [],
     "language": "python",
     "metadata": {},
     "outputs": []
    }
   ],
   "metadata": {}
  }
 ]
}